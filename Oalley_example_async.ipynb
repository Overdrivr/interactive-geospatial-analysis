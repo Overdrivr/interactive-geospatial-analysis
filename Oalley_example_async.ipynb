{
 "cells": [
  {
   "cell_type": "markdown",
   "metadata": {},
   "source": [
    "# More isochrones with OAlley\n",
    "\n",
    "\n",
    "[OAlley API](https://api.oalley.fr) lets you compute [isochrones](https://en.wikipedia.org/wiki/Isochrone_map).\n",
    "\n",
    "In this example, we use the `grequest` module to request multiple isochrones from the server in parallel. This is useful if you need a lot of them quickly.\n",
    "\n",
    "\n",
    "## Running this example\n",
    "\n",
    "If you want to run this example to compute your own isochrones, follow the [installation instructions](https://github.com/Overdrivr/interactive-geospatial-analysis).\n",
    "\n",
    "Also, you will need an OAlley API key. Go to [api.oalley.fr](https://api.oalley.fr) and signup. It's free. Each new user receives a key with 1000 requests available.\n",
    "\n",
    "Paste the key in the code below."
   ]
  },
  {
   "cell_type": "code",
   "execution_count": 2,
   "metadata": {
    "collapsed": false
   },
   "outputs": [],
   "source": [
    "import folium\n",
    "import grequests\n",
    "import polyline\n",
    "from urllib.parse import urlencode\n",
    "\n",
    "baseurl = \"https://api.oalley.fr/api/AppKeys/\"\n",
    "method = \"/isochronous?\"\n",
    "\n",
    "appkey = \"YOUR-API-KEY\"\n"
   ]
  },
  {
   "cell_type": "markdown",
   "metadata": {},
   "source": [
    "## Prepare the requests\n",
    "\n",
    "We are going to compute isochronous areas of 1min, 2min and 3min by car around the [Arc de Triomphe](http://tools.wmflabs.org/geohack/geohack.php?language=fr&pagename=Arc_de_triomphe_de_l%27%C3%89toile&params=48.8738_N_2.295_E_) in Paris."
   ]
  },
  {
   "cell_type": "code",
   "execution_count": 4,
   "metadata": {
    "collapsed": false
   },
   "outputs": [
    {
     "data": {
      "text/plain": [
       "['https://api.oalley.fr/api/AppKeys/YOUR-API-KEY/isochronous?lng=2.295&duration=60&lat=48.8738',\n",
       " 'https://api.oalley.fr/api/AppKeys/YOUR-API-KEY/isochronous?lng=2.295&duration=120&lat=48.8738',\n",
       " 'https://api.oalley.fr/api/AppKeys/YOUR-API-KEY/isochronous?lng=2.295&duration=180&lat=48.8738']"
      ]
     },
     "execution_count": 4,
     "metadata": {},
     "output_type": "execute_result"
    }
   ],
   "source": [
    "points = [\n",
    "    {\n",
    "        \"lat\":48.8738,\n",
    "        \"lng\":2.295,\n",
    "        \"duration\": 60 # 1 min by car\n",
    "    },\n",
    "    {\n",
    "        \"lat\":48.8738,\n",
    "        \"lng\":2.295,\n",
    "        \"duration\":120 # 2 min\n",
    "    },\n",
    "    {\n",
    "        \"lat\":48.8738,\n",
    "        \"lng\":2.295,\n",
    "        \"duration\":180 # 3 min\n",
    "    }    \n",
    "]\n",
    "\n",
    "urls = [baseurl + appkey + method + urlencode(point) for point in points]\n",
    "\n",
    "urls"
   ]
  },
  {
   "cell_type": "markdown",
   "metadata": {},
   "source": [
    "## Call the API\n",
    "\n",
    "The `callback` function is executed every time a request has responded. We use it to convert the zone from the standard [`polyline`](https://developers.google.com/maps/documentation/utilities/polylinealgorithm) format to the more user-friendly JSON format."
   ]
  },
  {
   "cell_type": "code",
   "execution_count": 3,
   "metadata": {
    "collapsed": false,
    "scrolled": true
   },
   "outputs": [
    {
     "data": {
      "text/plain": [
       "[<Response [200]>, <Response [200]>, <Response [200]>]"
      ]
     },
     "execution_count": 3,
     "metadata": {},
     "output_type": "execute_result"
    }
   ],
   "source": [
    "zones = []\n",
    "\n",
    "# Called when OAlley returned an isochrone\n",
    "def callback(res, **kwargs):\n",
    "    if(res.status_code != 200): \n",
    "        return print(res.json())\n",
    "    \n",
    "    body = res.json()\n",
    "    zone = polyline.decode(body['polyline'])\n",
    "    zones.append(zone)\n",
    "    \n",
    "def exception_handler(request, exception):\n",
    "    print(\"Error : %s\" % exception)\n",
    "    \n",
    "# Prepare all requests\n",
    "reqs = [grequests.get(url, callback=callback) for url in urls]\n",
    "\n",
    "# Execute all requests\n",
    "grequests.map(reqs, exception_handler=exception_handler)"
   ]
  },
  {
   "cell_type": "markdown",
   "metadata": {},
   "source": [
    "## Print the results\n",
    "\n",
    "We will now use a folium map to print the isochronous areas on a map."
   ]
  },
  {
   "cell_type": "code",
   "execution_count": 5,
   "metadata": {
    "collapsed": false
   },
   "outputs": [
    {
     "data": {
      "text/html": [
       "<div style=\"width:100%;\"><div style=\"position:relative;width:100%;height:0;padding-bottom:60%;\"><iframe src=\"data:text/html;base64,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\" style=\"position:absolute;width:100%;height:100%;left:0;top:0;\"></iframe></div></div>"
      ],
      "text/plain": [
       "<folium.folium.Map at 0x64afb90>"
      ]
     },
     "execution_count": 5,
     "metadata": {},
     "output_type": "execute_result"
    }
   ],
   "source": [
    "# Build output map\n",
    "m = folium.Map(location=[46, 2], zoom_start=5)\n",
    "\n",
    "# Draw all computed zones on the map\n",
    "for points in zones:\n",
    "    # Trick to close the polyline, until folium library supports it\n",
    "    points.append(points[0])\n",
    "    p = folium.PolyLine(locations=points,weight=3)\n",
    "    m.add_children(p)\n",
    "\n",
    "# Print the result\n",
    "m.fit_bounds(m.get_bounds())\n",
    "\n",
    "# IPython trick to display the map\n",
    "m"
   ]
  },
  {
   "cell_type": "markdown",
   "metadata": {},
   "source": [
    "## What's next\n",
    "\n",
    "Go to the [`repository page`](https://github.com/Overdrivr/interactive-geospatial-analysis) to see all other examples and experimentations, test them yourself and contribute if you feel like it.\n",
    "\n",
    "\n",
    "![compute-all.jpg](./compute-all-iso.jpg)"
   ]
  }
 ],
 "metadata": {
  "anaconda-cloud": {},
  "kernelspec": {
   "display_name": "Python [conda root]",
   "language": "python",
   "name": "conda-root-py"
  },
  "language_info": {
   "codemirror_mode": {
    "name": "ipython",
    "version": 3
   },
   "file_extension": ".py",
   "mimetype": "text/x-python",
   "name": "python",
   "nbconvert_exporter": "python",
   "pygments_lexer": "ipython3",
   "version": "3.5.1"
  }
 },
 "nbformat": 4,
 "nbformat_minor": 1
}
