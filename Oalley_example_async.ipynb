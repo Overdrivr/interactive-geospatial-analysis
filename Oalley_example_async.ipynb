{
 "cells": [
  {
   "cell_type": "markdown",
   "metadata": {},
   "source": [
    "# OAlley API IPython example\n",
    "\n",
    "This tutorial will show you how to use the [OAlley API](https://api.oalley.fr) with a few python modules to compute multiple isochronous zones efficiently.\n",
    "\n",
    "Unlike the previous tutorial, this tutorial performs requests against the OAlley server **asynchronously**.\n",
    "\n",
    "It does not wait for a request to complete to perform the next one, making you more productive.\n",
    "\n",
    "You will need to install python packages `folium` `grequests` and  `polyline`.\n",
    "\n",
    "```\n",
    "pip install folium grequests polyline\n",
    "```\n",
    "\n",
    "Also, you will need an API key. Go to [api.oalley.fr](https://api.oalley.fr) and signup. It's free. Each new user receives a key with 1000 requests available.\n",
    "\n",
    "Copy your key and paste it in the code below."
   ]
  },
  {
   "cell_type": "code",
   "execution_count": 9,
   "metadata": {
    "collapsed": false
   },
   "outputs": [],
   "source": [
    "import folium\n",
    "import grequests\n",
    "import polyline\n",
    "from urllib.parse import urlencode\n",
    "\n",
    "baseurl = \"https://api.oalley.fr/api/AppKeys/\"\n",
    "method = \"/isochronous?\"\n",
    "\n",
    "appkey = \"YOUR-API-KEY\"\n"
   ]
  },
  {
   "cell_type": "markdown",
   "metadata": {},
   "source": [
    "## Prepare the requests\n",
    "\n",
    "We are going to compute isochronous areas of 1min, 2min and 3min by car around the [Arc de Triomphe](http://tools.wmflabs.org/geohack/geohack.php?language=fr&pagename=Arc_de_triomphe_de_l%27%C3%89toile&params=48.8738_N_2.295_E_) in Paris."
   ]
  },
  {
   "cell_type": "code",
   "execution_count": 8,
   "metadata": {
    "collapsed": false
   },
   "outputs": [],
   "source": [
    "points = [\n",
    "    {\n",
    "        \"lat\":48.8738,\n",
    "        \"lng\":2.295,\n",
    "        \"duration\": 60 # 1 min by car\n",
    "    },\n",
    "    {\n",
    "        \"lat\":48.8738,\n",
    "        \"lng\":2.295,\n",
    "        \"duration\":120 # 2 min\n",
    "    },\n",
    "    {\n",
    "        \"lat\":48.8738,\n",
    "        \"lng\":2.295,\n",
    "        \"duration\":180 # 3 min\n",
    "    },\n",
    "    \n",
    "]\n",
    "\n",
    "urls = [baseurl + appkey + method + urlencode(point) for point in points]"
   ]
  },
  {
   "cell_type": "markdown",
   "metadata": {},
   "source": [
    "## Call the API\n",
    "\n",
    "The `callback` function is executed every time a request has responded. We use it to convert the zone from the standard [`polyline`](https://developers.google.com/maps/documentation/utilities/polylinealgorithm) format to the more user-friendly JSON format."
   ]
  },
  {
   "cell_type": "code",
   "execution_count": 6,
   "metadata": {
    "collapsed": false,
    "scrolled": true
   },
   "outputs": [
    {
     "data": {
      "text/plain": [
       "[<Response [200]>, <Response [200]>, <Response [200]>]"
      ]
     },
     "execution_count": 6,
     "metadata": {},
     "output_type": "execute_result"
    }
   ],
   "source": [
    "zones = []\n",
    "\n",
    "# Called when OAlley returned a zone\n",
    "def callback(res, **kwargs):\n",
    "    if(res.status_code != 200): # Most likely, you don't have credits anymore. We give more for free. Contact us at contact@oalley.fr \n",
    "        return print(res.json()) \n",
    "    \n",
    "    body = res.json()\n",
    "    zone = polyline.decode(body['polyline'])\n",
    "    zones.append(zone)\n",
    "    \n",
    "def exception_handler(request, exception):\n",
    "    print(\"Error : %s\" % exception)\n",
    "    \n",
    "# Prepare all requests\n",
    "reqs = [grequests.get(url, callback=callback) for url in urls]\n",
    "\n",
    "# Execute all requests\n",
    "grequests.map(reqs, exception_handler=exception_handler)"
   ]
  },
  {
   "cell_type": "markdown",
   "metadata": {},
   "source": [
    "## Print the results\n",
    "\n",
    "We will now use a folium map to print the isochronous areas on a map."
   ]
  },
  {
   "cell_type": "code",
   "execution_count": 10,
   "metadata": {
    "collapsed": false
   },
   "outputs": [
    {
     "data": {
      "text/html": [
       "<div style=\"width:100%;\"><div style=\"position:relative;width:100%;height:0;padding-bottom:60%;\"><iframe src=\"data:text/html;base64,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\" style=\"position:absolute;width:100%;height:100%;left:0;top:0;\"></iframe></div></div>"
      ],
      "text/plain": [
       "<folium.folium.Map at 0x6427ab0>"
      ]
     },
     "execution_count": 10,
     "metadata": {},
     "output_type": "execute_result"
    }
   ],
   "source": [
    "# Build output map\n",
    "m = folium.Map(location=[46, 2], zoom_start=5)\n",
    "\n",
    "# Draw all computed zones on the map\n",
    "for points in zones:\n",
    "    # Trick to close the polyline, until folium library supports it\n",
    "    points.append(points[0])\n",
    "    p = folium.PolyLine(locations=points,weight=3)\n",
    "    m.add_children(p)\n",
    "\n",
    "# Print the result\n",
    "m.fit_bounds(m.get_bounds())\n",
    "\n",
    "# IPython trick to display the map\n",
    "m"
   ]
  },
  {
   "cell_type": "markdown",
   "metadata": {},
   "source": [
    "## What's next\n",
    "\n",
    "The next example shows how to use open-datasets in conjunction with OAlley (to be done).\n",
    "\n",
    "![compute-all.jpg](./compute-all-iso.jpg)"
   ]
  }
 ],
 "metadata": {
  "anaconda-cloud": {},
  "kernelspec": {
   "display_name": "Python [conda root]",
   "language": "python",
   "name": "conda-root-py"
  },
  "language_info": {
   "codemirror_mode": {
    "name": "ipython",
    "version": 3
   },
   "file_extension": ".py",
   "mimetype": "text/x-python",
   "name": "python",
   "nbconvert_exporter": "python",
   "pygments_lexer": "ipython3",
   "version": "3.5.1"
  }
 },
 "nbformat": 4,
 "nbformat_minor": 1
}
