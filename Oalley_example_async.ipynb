{
 "cells": [
  {
   "cell_type": "markdown",
   "metadata": {},
   "source": [
    "# OAlley API IPython example\n",
    "\n",
    "This tutorial will show you how to use the [OAlley API](https://api.oalley.fr) with a few python modules to compute multiple isochronous zones efficiently.\n",
    "\n",
    "Unlike the previous tutorial, this tutorial performs requests against the OAlley server asynchronously.\n",
    "It does not wait for a request to complete to perform the next one, making you more productive.\n",
    "\n",
    "You will need to install python packages `folium` `grequests` and  `polyline`.\n",
    "Easy:\n",
    "```\n",
    "pip install folium grequests polyline\n",
    "```\n",
    "\n",
    "Also, you will need an API key. Go to [api.oalley.fr](https://api.oalley.fr) and signup. It's free. Each new user receives a key with 1000 requests available.\n",
    "\n",
    "Copy your key and paste it in the code below."
   ]
  },
  {
   "cell_type": "code",
   "execution_count": 31,
   "metadata": {
    "collapsed": false
   },
   "outputs": [],
   "source": [
    "import folium\n",
    "import grequests\n",
    "import polyline\n",
    "from urllib.parse import urlencode\n",
    "\n",
    "baseurl = \"https://api.oalley.fr/api/AppKeys/\"\n",
    "method = \"/isochronous?\"\n",
    "\n",
    "appkey = \"YOUR-APP-KEY\"\n"
   ]
  },
  {
   "cell_type": "markdown",
   "metadata": {},
   "source": [
    "## Call the API\n",
    "\n",
    "Here, we compute isochronous areas of 1min to 3min around the [Arc de Triomphe](http://tools.wmflabs.org/geohack/geohack.php?language=fr&pagename=Arc_de_triomphe_de_l%27%C3%89toile&params=48.8738_N_2.295_E_) in Paris."
   ]
  },
  {
   "cell_type": "code",
   "execution_count": 29,
   "metadata": {
    "collapsed": false,
    "scrolled": true
   },
   "outputs": [
    {
     "data": {
      "text/plain": [
       "[[(48.87395, 2.3001),\n",
       "  (48.87474, 2.29984),\n",
       "  (48.87566, 2.29956),\n",
       "  (48.87487, 2.2966),\n",
       "  (48.87649, 2.29777),\n",
       "  (48.87666, 2.29713),\n",
       "  (48.8757, 2.29572),\n",
       "  (48.87439, 2.29512),\n",
       "  (48.8745, 2.29492),\n",
       "  (48.87449, 2.29492),\n",
       "  (48.87436, 2.29477),\n",
       "  (48.8755, 2.29369),\n",
       "  (48.87529, 2.29351),\n",
       "  (48.87484, 2.29344),\n",
       "  (48.87549, 2.29032),\n",
       "  (48.8745, 2.29152),\n",
       "  (48.87365, 2.28872),\n",
       "  (48.87305, 2.29164),\n",
       "  (48.87077, 2.28793),\n",
       "  (48.87172, 2.29249),\n",
       "  (48.87046, 2.2912),\n",
       "  (48.87087, 2.29309),\n",
       "  (48.87049, 2.29384),\n",
       "  (48.87038, 2.29423),\n",
       "  (48.87162, 2.29513),\n",
       "  (48.87036, 2.29577),\n",
       "  (48.87183, 2.29553),\n",
       "  (48.87111, 2.29697),\n",
       "  (48.87124, 2.29727),\n",
       "  (48.87271, 2.29663),\n",
       "  (48.87265, 2.29839),\n",
       "  (48.87295, 2.29832)],\n",
       " [(48.87407, 2.30442),\n",
       "  (48.87571, 2.30466),\n",
       "  (48.87846, 2.30625),\n",
       "  (48.87931, 2.30313),\n",
       "  (48.8785, 2.3001),\n",
       "  (48.88192, 2.30033),\n",
       "  (48.87806, 2.2968),\n",
       "  (48.87804, 2.29551),\n",
       "  (48.87788, 2.29538),\n",
       "  (48.87793, 2.29417),\n",
       "  (48.88023, 2.29238),\n",
       "  (48.88172, 2.28899),\n",
       "  (48.88493, 2.28371),\n",
       "  (48.88083, 2.28448),\n",
       "  (48.87724, 2.28621),\n",
       "  (48.87683, 2.27978),\n",
       "  (48.87377, 2.28232),\n",
       "  (48.8714, 2.28226),\n",
       "  (48.86779, 2.28073),\n",
       "  (48.8668, 2.2845),\n",
       "  (48.86694, 2.28813),\n",
       "  (48.86558, 2.28973),\n",
       "  (48.86469, 2.29126),\n",
       "  (48.86417, 2.29311),\n",
       "  (48.86679, 2.29495),\n",
       "  (48.86677, 2.2962),\n",
       "  (48.86735, 2.29776),\n",
       "  (48.86796, 2.29891),\n",
       "  (48.86701, 2.30165),\n",
       "  (48.8683, 2.30324),\n",
       "  (48.86995, 2.30418),\n",
       "  (48.87219, 2.30487)],\n",
       " [(48.8738, 2.31005),\n",
       "  (48.87734, 2.31362),\n",
       "  (48.88098, 2.31238),\n",
       "  (48.88455, 2.31123),\n",
       "  (48.88722, 2.3084),\n",
       "  (48.88983, 2.30574),\n",
       "  (48.88738, 2.30055),\n",
       "  (48.88807, 2.29811),\n",
       "  (48.88418, 2.29472),\n",
       "  (48.88829, 2.29209),\n",
       "  (48.88739, 2.28926),\n",
       "  (48.88627, 2.28686),\n",
       "  (48.88397, 2.28493),\n",
       "  (48.88417, 2.27916),\n",
       "  (48.88102, 2.27763),\n",
       "  (48.87685, 2.28003),\n",
       "  (48.87369, 2.26769),\n",
       "  (48.87075, 2.28044),\n",
       "  (48.86499, 2.27336),\n",
       "  (48.86357, 2.27963),\n",
       "  (48.8604, 2.28157),\n",
       "  (48.85812, 2.28425),\n",
       "  (48.85608, 2.2873),\n",
       "  (48.85952, 2.2924),\n",
       "  (48.86324, 2.29496),\n",
       "  (48.85929, 2.29789),\n",
       "  (48.86397, 2.29909),\n",
       "  (48.86183, 2.30324),\n",
       "  (48.86658, 2.30215),\n",
       "  (48.86562, 2.30786),\n",
       "  (48.86819, 2.30859),\n",
       "  (48.86989, 2.31851)]]"
      ]
     },
     "execution_count": 29,
     "metadata": {},
     "output_type": "execute_result"
    }
   ],
   "source": [
    "points = [\n",
    "    {\n",
    "        \"lat\":48.8738,\n",
    "        \"lng\":2.295,\n",
    "        \"duration\": 60 # 1 min by car\n",
    "    },\n",
    "    {\n",
    "        \"lat\":48.8738,\n",
    "        \"lng\":2.295,\n",
    "        \"duration\":120 # 2 min\n",
    "    },\n",
    "    {\n",
    "        \"lat\":48.8738,\n",
    "        \"lng\":2.295,\n",
    "        \"duration\":180 # 3 min\n",
    "    },\n",
    "    \n",
    "]\n",
    "\n",
    "# Build all request URLs\n",
    "urls = [baseurl + appkey + method + urlencode(point) for point in points]\n",
    "\n",
    "zones = []\n",
    "\n",
    "def callback(res, **kwargs):\n",
    "    \n",
    "    if(res.status_code != 200):\n",
    "        # Most likely, you don't have credits anymore. \n",
    "        # We give more for free ;) Contact us at contact@oalley.fr\n",
    "        return print(res.json()) \n",
    "    \n",
    "    body = res.json()\n",
    "    zone = polyline.decode(body['polyline'])\n",
    "    zones.append(zone)\n",
    "    \n",
    "def exception_handler(request, exception):\n",
    "    print(\"Error : %s\" % exception)\n",
    "    \n",
    "# Prepare all requests\n",
    "reqs = [grequests.get(url, callback=callback) for url in urls]\n",
    "\n",
    "# Calling map fires all requests at once, and wait until they are completed\n",
    "grequests.map(reqs, exception_handler=exception_handler)\n",
    "\n",
    "zones"
   ]
  },
  {
   "cell_type": "markdown",
   "metadata": {},
   "source": [
    "## Print the results\n",
    "\n",
    "We will now use a folium map to print the isochronous areas on a map."
   ]
  },
  {
   "cell_type": "code",
   "execution_count": 30,
   "metadata": {
    "collapsed": false
   },
   "outputs": [
    {
     "data": {
      "text/html": [
       "<div style=\"width:100%;\"><div style=\"position:relative;width:100%;height:0;padding-bottom:60%;\"><iframe src=\"data:text/html;base64,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\" style=\"position:absolute;width:100%;height:100%;left:0;top:0;\"></iframe></div></div>"
      ],
      "text/plain": [
       "<folium.folium.Map at 0x6a8f550>"
      ]
     },
     "execution_count": 30,
     "metadata": {},
     "output_type": "execute_result"
    }
   ],
   "source": [
    "# Build output map\n",
    "m = folium.Map(location=[46, 2], zoom_start=5)\n",
    "\n",
    "# Draw all computed zones on the map\n",
    "for points in zones:\n",
    "    # Trick to close the polyline, until folium library supports it\n",
    "    points.append(points[0])\n",
    "    p = folium.PolyLine(locations=points,weight=3)\n",
    "    m.add_children(p)\n",
    "\n",
    "# Print the result\n",
    "m.fit_bounds(m.get_bounds())\n",
    "\n",
    "# IPython trick to display the map\n",
    "m"
   ]
  },
  {
   "cell_type": "markdown",
   "metadata": {},
   "source": [
    "## What's next\n",
    "\n",
    "See the next example on how to use open-datasets in conjunction with OAlley (TBD).\n",
    "\n",
    "![compute-all.jpg](./compute-all-iso.jpg)"
   ]
  }
 ],
 "metadata": {
  "anaconda-cloud": {},
  "kernelspec": {
   "display_name": "Python [conda root]",
   "language": "python",
   "name": "conda-root-py"
  },
  "language_info": {
   "codemirror_mode": {
    "name": "ipython",
    "version": 3
   },
   "file_extension": ".py",
   "mimetype": "text/x-python",
   "name": "python",
   "nbconvert_exporter": "python",
   "pygments_lexer": "ipython3",
   "version": "3.5.1"
  }
 },
 "nbformat": 4,
 "nbformat_minor": 1
}
