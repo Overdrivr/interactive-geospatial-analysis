{
 "cells": [
  {
   "cell_type": "markdown",
   "metadata": {},
   "source": [
    "# Tips and tricks for visualization\n",
    "\n",
    "This tutorial will show you how to draw closed contours with `folium`.\n",
    "\n",
    "We will draw isochronous areas computed with the [OAlley API](https://api.oalley.fr).\n",
    "\n",
    "\n",
    "## Running this example\n",
    "\n",
    "If you want to run this example to compute your own isochrones, you will need an OAlley API key. Go to [api.oalley.fr](https://api.oalley.fr) and signup. It's free. Each new user receives a key with 1000 requests available.\n",
    "\n",
    "Paste the key in the code below.\n",
    "\n",
    "Also, this example requires a version of folium > 0.3. Once you have downloaded this file, Don't forget to hit <kbd>Ctrl</kbd> + <kbd>enter</kbd> to run this."
   ]
  },
  {
   "cell_type": "code",
   "execution_count": 22,
   "metadata": {
    "collapsed": false
   },
   "outputs": [
    {
     "name": "stdout",
     "output_type": "stream",
     "text": [
      "0.3.0.dev\n"
     ]
    }
   ],
   "source": [
    "import folium\n",
    "import grequests\n",
    "import polyline\n",
    "from urllib.parse import urlencode\n",
    "\n",
    "# This should display a version > 0.3, otherwise PolygonMarker is not supported.\n",
    "print(folium.__version__)\n",
    "\n",
    "baseurl = \"https://api.oalley.fr/api/AppKeys/\"\n",
    "method = \"/isochronous?\"\n",
    "\n",
    "appkey = \"YOUR-API-KEY\""
   ]
  },
  {
   "cell_type": "markdown",
   "metadata": {},
   "source": [
    "## Compute isochrones"
   ]
  },
  {
   "cell_type": "code",
   "execution_count": null,
   "metadata": {
    "collapsed": true
   },
   "outputs": [],
   "source": [
    "durations = [ 60, 120, 180]\n",
    "center =  {\n",
    "    \"lat\":48.8738,\n",
    "    \"lng\":2.295,\n",
    "    \"duration\": 0.0\n",
    "}\n",
    "\n",
    "urls = [baseurl + appkey + method + urlencode(dict(center,duration=d)) for d in durations]\n",
    "\n",
    "zones = []\n",
    "\n",
    "# Called when OAlley returned a zone\n",
    "def callback(res, **kwargs):\n",
    "    if(res.status_code != 200): # Most likely, you don't have credits anymore. We give more for free. Contact us at contact@oalley.fr \n",
    "        return print(res.json()) \n",
    "    body = res.json()\n",
    "    zone = polyline.decode(body['polyline'])\n",
    "    zones.append(zone)\n",
    "    \n",
    "def exception_handler(request, exception):\n",
    "    print(\"Error : %s\" % exception)\n",
    "    \n",
    "# Prepare all requests\n",
    "reqs = [grequests.get(url, callback=callback) for url in urls]\n",
    "\n",
    "# Execute all requests\n",
    "grequests.map(reqs, exception_handler=exception_handler)"
   ]
  },
  {
   "cell_type": "markdown",
   "metadata": {},
   "source": [
    "## Display the zones\n",
    "\n",
    "Play around with the fill and contour colors.\n",
    "\n",
    "**Note**: The `fit_bounds` method seems broken as of 0.3.0. This is specific to PolygonMarker. The fitted view does not actually fit to the complete size of the polygons. Should be fixed in a near future. "
   ]
  },
  {
   "cell_type": "code",
   "execution_count": 23,
   "metadata": {
    "collapsed": false
   },
   "outputs": [
    {
     "data": {
      "text/html": [
       "<div style=\"width:100%;\"><div style=\"position:relative;width:100%;height:0;padding-bottom:60%;\"><iframe src=\"data:text/html;base64,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\" style=\"position:absolute;width:100%;height:100%;left:0;top:0;\"></iframe></div></div>"
      ],
      "text/plain": [
       "<folium.folium.Map at 0x6fed2f0>"
      ]
     },
     "execution_count": 23,
     "metadata": {},
     "output_type": "execute_result"
    }
   ],
   "source": [
    "# Build output map\n",
    "m = folium.Map(location=[46, 2])\n",
    "\n",
    "# Contour color supports transparency. Here the last 00 means the contours is fully transparent\n",
    "contour_color = \"#ffffff00\" \n",
    "\n",
    "# Fill color doesnt support transparency. The last 2 numbers for transparency must be removed.\n",
    "# Otherwise it will default to black\n",
    "fill_color    = \"#002d5f\"\n",
    "\n",
    "# Draw all computed zones on the map\n",
    "for points in zones:\n",
    "    folium.features.PolygonMarker(locations=points, color=contour_color, fill_color=fill_color, weight=10).add_to(m)\n",
    "\n",
    "# Print the result\n",
    "m.fit_bounds(m.get_bounds())\n",
    "\n",
    "# IPython trick to display the map\n",
    "m"
   ]
  },
  {
   "cell_type": "markdown",
   "metadata": {},
   "source": [
    "## Next\n",
    "\n",
    "Go to the [`repository page`](https://github.com/Overdrivr/interactive-geospatial-analysis) to see all other examples and experimentations, test them yourself and contribute if you feel like it."
   ]
  }
 ],
 "metadata": {
  "anaconda-cloud": {},
  "kernelspec": {
   "display_name": "Python [conda root]",
   "language": "python",
   "name": "conda-root-py"
  },
  "language_info": {
   "codemirror_mode": {
    "name": "ipython",
    "version": 3
   },
   "file_extension": ".py",
   "mimetype": "text/x-python",
   "name": "python",
   "nbconvert_exporter": "python",
   "pygments_lexer": "ipython3",
   "version": "3.5.1"
  }
 },
 "nbformat": 4,
 "nbformat_minor": 1
}
