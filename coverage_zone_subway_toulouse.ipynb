{
 "cells": [
  {
   "cell_type": "markdown",
   "metadata": {},
   "source": [
    "# Zone de couverture du metro toulousain (avec la future ligne 3)\n",
    "\n",
    "Application de [OAlley API](https://api.oalley.fr) pour creer une carte de couverture des metros toulousains, avec la future ligne."
   ]
  },
  {
   "cell_type": "code",
   "execution_count": 40,
   "metadata": {
    "collapsed": false
   },
   "outputs": [],
   "source": [
    "import folium\n",
    "import grequests\n",
    "import requests\n",
    "import polyline\n",
    "from urllib.parse import urlencode\n",
    "import json\n",
    "from shapely.geometry.polygon import Polygon\n",
    "from shapely.ops import cascaded_union\n",
    "\n",
    "baseurl = \"https://api.oalley.fr/api/AppKeys/\"\n",
    "method = \"/isochronous?\"\n",
    "\n",
    "appkey = \"YOUR-API-KEY\"\n"
   ]
  },
  {
   "cell_type": "markdown",
   "metadata": {},
   "source": [
    "## Get the list of stations\n"
   ]
  },
  {
   "cell_type": "code",
   "execution_count": 7,
   "metadata": {
    "collapsed": false
   },
   "outputs": [
    {
     "name": "stdout",
     "output_type": "stream",
     "text": [
      "{'recordid': '936c4b78a37c8ef50a42849a117c4501d0b03cdf', 'fields': {'geo_shape': {'type': 'Point', 'coordinates': [1.459262812511472, 43.579584532680684]}, 'nom': 'SAOUZELONG', 'etat': 'Existant', 'ligne': 'B', 'geo_point_2d': [43.579584532680684, 1.459262812511472]}, 'geometry': {'type': 'Point', 'coordinates': [1.459262812511472, 43.579584532680684]}, 'datasetid': 'stations-de-metro', 'record_timestamp': '2016-06-26T07:01:01+02:00'}\n"
     ]
    }
   ],
   "source": [
    "# Request bike stations\n",
    "r = requests.get(\"https://data.toulouse-metropole.fr/explore/dataset/stations-de-metro/download/?format=json&timezone=Europe/Berlin\")\n",
    "\n",
    "print(r.json[0])"
   ]
  },
  {
   "cell_type": "code",
   "execution_count": 22,
   "metadata": {
    "collapsed": false,
    "scrolled": true
   },
   "outputs": [
    {
     "name": "stdout",
     "output_type": "stream",
     "text": [
      "Found 44 stations\n",
      "10 / 44\n",
      "20 / 44\n",
      "30 / 44\n",
      "40 / 44\n",
      "Done !\n"
     ]
    }
   ],
   "source": [
    "# Extract coords for each\n",
    "coords = [{'lat': s['fields']['geo_shape']['coordinates'][1], 'lng': s['fields']['geo_shape']['coordinates'][0], 'duration': 0} for s in r.json()]\n",
    "\n",
    "coords_5m = [dict(c, duration = 120) for c in coords]\n",
    "\n",
    "print(\"Found %d stations\" % len(coords))\n",
    "\n",
    "zones = []\n",
    "\n",
    "i = 0\n",
    "\n",
    "# Called when OAlley returned a zone\n",
    "def callback(res, **kwargs):\n",
    "    global i\n",
    "    if(res.status_code != 200): \n",
    "        return print(res.json()) \n",
    "    \n",
    "    body = res.json()\n",
    "    zone = polyline.decode(body['polyline'])\n",
    "    zones.append(zone)\n",
    "    i += 1\n",
    "    if(i % 10 == 0):\n",
    "        print(\"%d / %d\" % (i, len(coords)))\n",
    "    \n",
    "def exception_handler(request, exception):\n",
    "    print(\"Error : %s\" % exception)\n",
    "    \n",
    "    \n",
    "# Prepare all requests for OAlley\n",
    "urls = [baseurl + appkey + method + urlencode(point) for point in coords_5m]\n",
    "reqs = [grequests.get(url, callback=callback) for url in urls]\n",
    "\n",
    "# Execute all requests\n",
    "grequests.map(reqs, exception_handler=exception_handler)\n",
    "\n",
    "print(\"Done !\")"
   ]
  },
  {
   "cell_type": "markdown",
   "metadata": {},
   "source": [
    "# Carte réaliste des stations de la ligne 3 du métro Toulousain\n",
    "\n",
    "Pour d'autres visualisations plus poussées, voir sur le dépot [Github](https://github.com/Overdrivr/interactive-geospatial-analysis)"
   ]
  },
  {
   "cell_type": "code",
   "execution_count": 39,
   "metadata": {
    "collapsed": false
   },
   "outputs": [
    {
     "name": "stdout",
     "output_type": "stream",
     "text": [
      "[43.6164113, 1.350503]\n",
      "[43.6119056, 1.3726646]\n",
      "[43.6217381, 1.396956]\n",
      "[43.61642, 1.4076825]\n",
      "[43.6170028, 1.4220444]\n",
      "[43.6294087, 1.4294307]\n",
      "[43.6346464, 1.4398956]\n",
      "[43.6270672, 1.4443802]\n",
      "[43.6168462, 1.450839]\n",
      "[43.6176851, 1.4598298]\n",
      "[43.6107874, 1.4550018]\n",
      "[43.6006259, 1.4520406]\n",
      "[43.5958397, 1.4631342]\n",
      "[43.592146, 1.469119]\n",
      "[43.5786969, 1.4842483]\n",
      "[43.5734577, 1.4805364]\n",
      "[43.5600868, 1.4983034]\n"
     ]
    },
    {
     "data": {
      "text/html": [
       "<div style=\"width:100%;\"><div style=\"position:relative;width:100%;height:0;padding-bottom:60%;\"><iframe src=\"data:text/html;base64,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\" style=\"position:absolute;width:100%;height:100%;left:0;top:0;\"></iframe></div></div>"
      ],
      "text/plain": [
       "<folium.folium.Map at 0x6986990>"
      ]
     },
     "execution_count": 39,
     "metadata": {},
     "output_type": "execute_result"
    }
   ],
   "source": [
    "# Build output map\n",
    "m = folium.Map(location=[46, 2], zoom_start=5)\n",
    "\n",
    "# Source: http://actu.cotetoulouse.fr/files/2015/12/11232984_933782070010705_6978152120249447133_n.jpg\n",
    "# Source: http://actu.cotetoulouse.fr/toulouse-tout-ce-qu-il-faut-savoir-sur-le-trace-de-la-3e-ligne-de-metro-et-la-facon-dont-il-pourrait-evoluer_25984/\n",
    "# Tool to get GPS coords : http://www.gps-coordinates.net/\n",
    "ligne3locs = [\n",
    "    [43.6164113,1.3505030],# Airbus colommiers\n",
    "    [43.6119056,1.3726646],# Aibus Saint Martin\n",
    "    [43.6217381,1.3969560],# Jean Maga\n",
    "    [43.6164200,1.4076825],# Espace Job\n",
    "    [43.6170028,1.4220444],# Boulevard de suisse\n",
    "    [43.6294087,1.4294307],# Fondeyre (estimation from previews)\n",
    "    [43.6346464,1.4398956],# La Vache SNCF\n",
    "    [43.6270672,1.4443802],# Toulouse Lautrec (estimation from previews)\n",
    "    [43.6168462,1.4508390],# Raynal\n",
    "    [43.6176851,1.4598298],# Bonnefoy (estimated from previews)\n",
    "    [43.6107874,1.4550018],# Marengo\n",
    "    [43.6006259,1.4520406],# Francois verdier\n",
    "    [43.5958397,1.4631342],# Jean rieux\n",
    "    [43.5921460,1.4691190],# Cote pavee\n",
    "    [43.5786969,1.4842483],# L'Ormeau\n",
    "    [43.5734577,1.4805364],# Montaudran\n",
    "    [43.5600868,1.4983034]# Airbus Defence and space\n",
    "]\n",
    "\n",
    "for pt in ligne3locs:\n",
    "    print(pt)\n",
    "    folium.Marker(pt).add_to(m)\n",
    "\n",
    "    \n",
    "m.fit_bounds(m.get_bounds())\n",
    "# IPython trick to display the map\n",
    "m"
   ]
  },
  {
   "cell_type": "code",
   "execution_count": 6,
   "metadata": {
    "collapsed": false
   },
   "outputs": [
    {
     "data": {
      "text/plain": [
       "'[\"ehdiGuhpGcAiCcAbD]nCdAfEQ@M?eLy@oLxBCDhBkPScGhB`A\\\\\\\\E|GTfHqEwCq@kGTlG_JBwEHoFcPjPu@aAeAqCmBnI]AeEu@uB`AUHz@fCFnAuGdClCdD@?_DzL|B|B~EGbBxFhEp@PyAxON|BN|@d@jC_Ad@}B|@zC|@zGtEdJv@gGtJvHfDwDjF}@cPgMhDyBqBeCZqAgDmBk@aATgCdDcQ{IjM}Ai@yBhC\", \"wkfiGs~oGi@mCqU}n@~Ixe@uK~@|EtB[xAwHJ`AlIi@xDoCjDcBtJf_@aT?N`AmAXAZA\\\\\\\\?X?r@J@@D?HCHQjLQqLi@vBcBC@kCnA_@By@y@ESEO\", \"{meiG}fsG{GuMaB~FyAnCdAbIkAHzEdGFj@qIjE_JrMVdFpHwBxGdCj@vCrHmBfBwBbCoCn@_DvBoAn@s@oA{DQ]fI_Cu@yA^uE`@mD{C{BuAk@wEx@uCUmBO\", \"ax_iGqplG{@pAiBjC_@n@a@j@yVaJXxC}C~HaAZ@@JHRLZP??VP`AbIB`DnLgDd@dKPAxACfJlCxEdDtBxAnChB`KARsJbG}@dAXcDwQj@mB`@{@`Au@vA}@f@aAlBc@jGcD|GcEeOMlA_Iw@UqCN}CS\\\\\\\\eIkAGxAkGiBkMRs@x@AzBnMvHuQn@VvQfOiEiSoCqJpD_Dc@kB[wBfPgGoD}EkCaCwBp@qQqEd@aHkBhGw`@_KnCoADAti@}Rt@j@qBzAzCZb@j@h@?}ArJ?jTxF{B`Fq@b@aHp@yIdCiBXe@vDt@_C_GFoBcGk@lBsBnAwCeDHUQMe@dDeTcGxEiD|AoBkEHuAKC_@Mi@iAx@eCzAqHNOpAkH|FyAzAd@lA\\\\\\\\hAwAqA{DlBaCB@MGeC_B@Yn@c@f@yCf@kAlHpGgBlCYPvHjBGFmElE`AvAfAzAnBb@bCaBrAlCjD~FfCe@{AxC`A~AzBhAlBsF|ElBRv@?CJq@`GzG?eG{AcE\\\\\\\\mAqAsAPo@Lg@mBuBFWt@uCt@mC{BoAuCsUmB|ESl@BlBCEEiABO}J|Ag@fBq@XeDuA}Iw\\\\\\\\A@?AQG?kCe@}@F{HdCsGyDsD_G`BiDyAwDN_FOkEHfCpNaOuK_HdCtLtL~AlDeDhDj@V~DvCeB~CpDRjA|A?@kBzAy@xBHfDiB~AtB~B]pAWlCJvChF`@RVkBjQnAqAeDxIwAT{DgEnCdFKEUA]HeK~BrG\\\\\\\\uVhKkEbCrVXdIyJmBfKbE`ChBzANiLnCxFH`@]Cc@?Y|BO?e@v@un@dRdAaBoAa@Cc@Qu@mDdBOq@e@F}DgC_A@wAbBk@nAkA~ADxBbFdQ{KzCzErAfFxEz@|EKANL@HtAhF|@kBfLbK@L\\\\\\\\fBsJdOl@NbAVnAZfBL`BLjArGfD~H[^}CzA{@JoFoD|ClKlAbA_IZr@dDR~@kBsBcDk@w@fA\", \"o|kiGexwGs@jDEBc@dCAH?@G\\\\\\\\e@fCTZOvBw@ZsFeABxAB|AwS@sCrGjb@_@@ZcHzGyJnJlBhJlPiTnA]t@fHxClF`BoFx@_@pB_Dt@SLHB?a@}FAGx@gA|T}A`Al@rIyA?yB{L_FmHwDXmAsFfD?A??A[u@_BOe@C???}@{NnCdCpJyBG~D~@cDpEfAv@lArBSx@|BEf@f@^JX?OdOaKpCvIiA|Ex@cBdIcCJ?C@]~EMAA?wUbK]t@pIHpMeFuBjFSTG`@{AtDjArBBZmM|GlQxBfNuE`B~@LnApBjAn@mCzG@JGLVVs@|AeA`Bf@b@rIbG\\\\\\\\fDuCh@TnBrC{HHrIjA~Az@HNHXwIpIN`DjFE|B}ChAnGfBwAfFzDrHfBhJhBm@mD|BC|CiIpBaAG_@h@gA_@jBRlATnA{BzBHlDfChAFrB|Hs@\\\\\\\\xDlAjEjDeC~ErJiBsVlEvEr@kCYiDG_Aw@m@EmAp@BIsFx@@\\\\\\\\_Fn@_AbArASuChF_IbCSOlBHZ???@d@fBaAzE_AtAt@q@??~F{As@`PGRGV}IqJrD|IDFJPsAzCrDMEPCLjAx@A@oClK?AiAlEqAc@GTGVSZSHMBqCDUfAFt@Fv@Fp@yBfEbA@iBpShEzAvDyOvC_KVw@tCyArCXECSO?sCxB}AoDg@s@}@b@_E`B~DxCrAp@kD|AeAJcB@wA?mA?gC?mB?iBjCcDVtALk@DKB]nMlDqArLSxAKpAEZuG~ZwKnVQZQ^KVoArCCD}I`UbJgQ`AnIjDdPtCqRnCTz@pIcCyA?vCAj@?n@_@fANp@Mf@vCw@NB@|CTBPBTLj@bBr@{BHUHWVOTQJSCi@FUFQz@eCL]??jBkFp@oB|Qw@AvAALqKtQpBHnAF}AGpDrI}Kt@_EnDbDjE@`BpPzE^rB`FzHnCzD|BmM|AsChMdLdFRXmH]_GwFsGLeCJoA_IcC@_BdBgHiA`@oEiHSr@h@}BxDkDtLtLgFoLjDn@p@cBp@aD@IfKaJvBoD~BnHFR\\\\\\\\vCHp@^lCHn@Lv@NHBAd@[?@pKlK?Eb@tALDGHRxA^|Ab@dBXrBeIxMhDpCbMcPBKrG}FZd@TXnAtCR[hA}B^WdDsBbDgA?m@uCi@dDyJkB}Ag@Sj@D~@eEtJxGnFsAdAuE{P}MxDe@rB_CgFo@TqAV{CwGjBg@c@}AiBo@wUiE`@^eLYbAuNgHt@zW}A@mAgCjCkDGCaDyG@CwBkF}DiEyBrAVeBt@Hp@FjAUjBk@dETd@CVkBXgBnFwBpInSnGgBpF}@gGoOJK{CiHqFgFOGWIa@Mi@Sg@Sg@kPcCgF??FyDA?DgA@m@QxBc\\\\\\\\xH_BoAQOECe@_@s@g@ACECGEQMCCi@a@}@q@wD_GEKtQ{QuBsDwEoC_EaBj@qAjNEmGaEJBr@VxBvAr@n@vEpCsFiEfSrKOlAb@aA~Az@dBgHq@[hCwF~BbBvBnBxBcC{AmErCHdA~@d@y@|CHoSnOdUiLl@`@l@^`Al@dBfAXFnD|H]z@B@TdGt@tNpB_EjGsD|CBzCk@aAgKlDb@uDgGmBoBOOMcAHS_Cq@SQGG@?l@cEMGdBoU??ViA^cBZsAhBeH~BoIE{AxAgCdA~FjBHjBMdB]zAa@zAaErO~CtAoDVkEoFsAbAmAvDxCbCoB`CcBhBsCN_@jF`BaDkM~CqFkAWLGnK|Ab@oChHiAoKwI|AiA_BwDgANpCuAxE}C}ClNfGyM`ByCVMTKRIPILEFEBAHCvFwB@BhRpEpMnGeEoKQ]_@{@|AiL|FoAiBgCvB_KiHdCq@oEoBiIuEXeEk@cA_CyDvUeAbA}@z@`Cd@{KhFbG}HgCfCsEpEcC~BmGfBgGhDNJtBvCa@dDpECgIjHo@HoHxHIFS?y@{^vGzG|AyDKyClFeLc@aA]w@vCeC_AuByA}DeDqBkBr@eEb@tB_Ld@lBb@|AtKc[\\\\\\\\B~@r@PAk@aBvAt@RSNOLMJKFGBCmDg@EKdKk^t@u@PWdAuCt@_\\\\\\\\uAScBr@iJdDuBmEyR_]zXv|@c@`A}@dAiBjBwJOtBpCeCvGIV]t@Wx@]fAOd@KZ@Aq@xBoBxECBCHCF{RlG]eAk@EMMyA{Aw@VeFeCx@wFuLvLcMBsM`@~OaXg@a@dBsJpNx@|ErDtC|BvBoFiOoHpOcWUWdA_Fl@iMCDaG}CiJbSmBkFgAV_@SwB}EDsGyAxBiAeCXdEeLvPsDjB??OQg@gHwAjAaC?gA|@YFaLoHpGXnGqBrBqCvCeFSiEoIBe@mDwLlIs@DuAxFYcAo@l@k@ZyAcAi@h@g@v@[x@RzAm@IoBdKyAtAy@a@AxAgBbBeA}At@jBCBnAzEaBo@Ot@Wd@mCz@FvARhBQPKa@QcMgEY[iJKl@}JdOqCjAWnAa@lH@Z@b@wBDUlAUjAcCr@kDDcHrDC?lBeIr@eEm@cGp@c@Hs@dDqBF?Zi@]}APo@lEoHa@aCdMaU_HcQmMzKsGjIqDtFiAv@}BfLIO??cAiBgFu@}AHuAx@a@j@f@bOOJEHm@|@]j@Yd@wQg@h@tBNd@eIlApRi]}@z@eJpG_DvAaBf@sKgh@}E~GeBdNcClMC???wGdAtGhCE|MgBsDcBl@y@xBWhAyANmAbAkHnAoAwC`@pGoAnCb@b@]YqIOaBzBq@z@wDtDwFr@]`DgAdBpBfDqDdC_AhBmLyJ?gAB[Vm@zAuBHkAeDvBUDfFg\\\\\\\\aLl[CAQJe@`@Y@iGqF~@{@eBVMKJJgAPsB}EqD`AsFbKWHo@cOiBb@iB`@cBRjF|McBp@eJkBqAl@y@z@xFl@oMvI|CsAjLy@gI|RpEpBjFqET`@gCxEiApF@FECZv@dD|K??DRHj@?@@@@BhA`DJZDLXx@|@fC@?jAdDJ\\\\\\\\Tp@CNf@fAgCXoDWh@cCh@y@Pq@aG~@ICkEgMh@w@_BFiCwCmDTNjHoCA{@]lB}LcA|DgHa@@MaC_CuBy@SNs@s@wAwJxBwKyIfDgGJwBGaEtEwG_FgE`BaCzD_H\\\\\\\\lPzKxAjFWfAU~@Qr@??o@lCmDj@o@GAjMeB`CqD[pCrAq@nGaCFMvBvF[v@xCF`EcAfMbExClAeB|Bk@gIfJvJaILVb@bBZf@zA|FaBeN@E@G~NjBh@Gq@eCAeBCkBA}AmCe@Dq@~Cs@^cBlDsBiAoBx@s@oKuFL}@SuAw@oB`A{BzD_A|AnA[zBhCmCtG`CjF~CnA|@j@xCHKvFpCZ|@d@}BxBk@jApAnBbIfFCjBbBzGrA{@~AjAlCnBnHl@xAaCf@kDdBbChFwS|MsAoA~Em`@{It\\\\\\\\mBu]}Ah@w@?aBsEsEwC_G`BUfM@h@eJcBoAfBAC_CVaAfA????MNuB~@j@zACHz@vA^l@?bRkKaVcFxBqBIrGzL|@|AvCnGoD|EwBrCY^GHv@rHvDyAhEDnACfC\\\\\\\\`@z@Gh@qBtCS|CdAHW|BgBZUvCcAJmE}@?lFaOhHyE`BdJjC_A`P[@{HcIm@^w@{A\"]'"
      ]
     },
     "execution_count": 6,
     "metadata": {},
     "output_type": "execute_result"
    }
   ],
   "source": [
    "# Eventually, dump all zones to a google polyline format if you want to display it on a website\n",
    "arr = [ polyline.encode(list(z.exterior.coords)) for z in allzones]\n",
    "\n",
    "json.dumps(arr)"
   ]
  }
 ],
 "metadata": {
  "anaconda-cloud": {},
  "kernelspec": {
   "display_name": "Python [conda root]",
   "language": "python",
   "name": "conda-root-py"
  },
  "language_info": {
   "codemirror_mode": {
    "name": "ipython",
    "version": 3
   },
   "file_extension": ".py",
   "mimetype": "text/x-python",
   "name": "python",
   "nbconvert_exporter": "python",
   "pygments_lexer": "ipython3",
   "version": "3.5.1"
  }
 },
 "nbformat": 4,
 "nbformat_minor": 1
}
